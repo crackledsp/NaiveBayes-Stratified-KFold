{
 "cells": [
  {
   "cell_type": "code",
   "execution_count": 1,
   "metadata": {
    "_cell_guid": "b1076dfc-b9ad-4769-8c92-a6c4dae69d19",
    "_uuid": "8f2839f25d086af736a60e9eeb907d3b93b6e0e5",
    "execution": {
     "iopub.execute_input": "2020-12-05T13:41:09.056820Z",
     "iopub.status.busy": "2020-12-05T13:41:09.056072Z",
     "iopub.status.idle": "2020-12-05T13:41:10.137657Z",
     "shell.execute_reply": "2020-12-05T13:41:10.138337Z"
    },
    "papermill": {
     "duration": 1.100045,
     "end_time": "2020-12-05T13:41:10.138573",
     "exception": false,
     "start_time": "2020-12-05T13:41:09.038528",
     "status": "completed"
    },
    "tags": []
   },
   "outputs": [
    {
     "name": "stdout",
     "output_type": "stream",
     "text": [
      "/kaggle/input/spam-or-not-spam-dataset/spam_or_not_spam.csv\n"
     ]
    }
   ],
   "source": [
    "# This Python 3 environment comes with many helpful analytics libraries installed\n",
    "# It is defined by the kaggle/python Docker image: https://github.com/kaggle/docker-python\n",
    "# For example, here's several helpful packages to load\n",
    "\n",
    "import numpy as np # linear algebra\n",
    "import pandas as pd # data processing, CSV file I/O (e.g. pd.read_csv)\n",
    "from sklearn.feature_extraction.text import CountVectorizer, TfidfVectorizer\n",
    "\n",
    "from sklearn.naive_bayes import BernoulliNB, MultinomialNB\n",
    "\n",
    "from sklearn.metrics import accuracy_score, confusion_matrix\n",
    "from sklearn.model_selection import StratifiedKFold,train_test_split,cross_val_score,GridSearchCV# Input data files are available in the read-only \"../input/\" directory\n",
    "# For example, running this (by clicking run or pressing Shift+Enter) will list all files under the input directory\n",
    "\n",
    "import os\n",
    "for dirname, _, filenames in os.walk('/kaggle/input'):\n",
    "    for filename in filenames:\n",
    "        print(os.path.join(dirname, filename))\n",
    "\n",
    "# You can write up to 20GB to the current directory (/kaggle/working/) that gets preserved as output when you create a version using \"Save & Run All\" \n",
    "# You can also write temporary files to /kaggle/temp/, but they won't be saved outside of the current session"
   ]
  },
  {
   "cell_type": "code",
   "execution_count": 2,
   "metadata": {
    "_cell_guid": "79c7e3d0-c299-4dcb-8224-4455121ee9b0",
    "_uuid": "d629ff2d2480ee46fbb7e2d37f6b5fab8052498a",
    "execution": {
     "iopub.execute_input": "2020-12-05T13:41:10.163948Z",
     "iopub.status.busy": "2020-12-05T13:41:10.163249Z",
     "iopub.status.idle": "2020-12-05T13:41:10.276530Z",
     "shell.execute_reply": "2020-12-05T13:41:10.275835Z"
    },
    "papermill": {
     "duration": 0.12887,
     "end_time": "2020-12-05T13:41:10.276674",
     "exception": false,
     "start_time": "2020-12-05T13:41:10.147804",
     "status": "completed"
    },
    "tags": []
   },
   "outputs": [
    {
     "data": {
      "text/html": [
       "<div>\n",
       "<style scoped>\n",
       "    .dataframe tbody tr th:only-of-type {\n",
       "        vertical-align: middle;\n",
       "    }\n",
       "\n",
       "    .dataframe tbody tr th {\n",
       "        vertical-align: top;\n",
       "    }\n",
       "\n",
       "    .dataframe thead th {\n",
       "        text-align: right;\n",
       "    }\n",
       "</style>\n",
       "<table border=\"1\" class=\"dataframe\">\n",
       "  <thead>\n",
       "    <tr style=\"text-align: right;\">\n",
       "      <th></th>\n",
       "      <th>email</th>\n",
       "      <th>label</th>\n",
       "    </tr>\n",
       "  </thead>\n",
       "  <tbody>\n",
       "    <tr>\n",
       "      <th>0</th>\n",
       "      <td>date wed NUMBER aug NUMBER NUMBER NUMBER NUMB...</td>\n",
       "      <td>0</td>\n",
       "    </tr>\n",
       "    <tr>\n",
       "      <th>1</th>\n",
       "      <td>martin a posted tassos papadopoulos the greek ...</td>\n",
       "      <td>0</td>\n",
       "    </tr>\n",
       "    <tr>\n",
       "      <th>2</th>\n",
       "      <td>man threatens explosion in moscow thursday aug...</td>\n",
       "      <td>0</td>\n",
       "    </tr>\n",
       "    <tr>\n",
       "      <th>3</th>\n",
       "      <td>klez the virus that won t die already the most...</td>\n",
       "      <td>0</td>\n",
       "    </tr>\n",
       "    <tr>\n",
       "      <th>4</th>\n",
       "      <td>in adding cream to spaghetti carbonara which ...</td>\n",
       "      <td>0</td>\n",
       "    </tr>\n",
       "    <tr>\n",
       "      <th>...</th>\n",
       "      <td>...</td>\n",
       "      <td>...</td>\n",
       "    </tr>\n",
       "    <tr>\n",
       "      <th>2995</th>\n",
       "      <td>abc s good morning america ranks it the NUMBE...</td>\n",
       "      <td>1</td>\n",
       "    </tr>\n",
       "    <tr>\n",
       "      <th>2996</th>\n",
       "      <td>hyperlink hyperlink hyperlink let mortgage le...</td>\n",
       "      <td>1</td>\n",
       "    </tr>\n",
       "    <tr>\n",
       "      <th>2997</th>\n",
       "      <td>thank you for shopping with us gifts for all ...</td>\n",
       "      <td>1</td>\n",
       "    </tr>\n",
       "    <tr>\n",
       "      <th>2998</th>\n",
       "      <td>the famous ebay marketing e course learn to s...</td>\n",
       "      <td>1</td>\n",
       "    </tr>\n",
       "    <tr>\n",
       "      <th>2999</th>\n",
       "      <td>hello this is chinese traditional 子 件 NUMBER世...</td>\n",
       "      <td>1</td>\n",
       "    </tr>\n",
       "  </tbody>\n",
       "</table>\n",
       "<p>3000 rows × 2 columns</p>\n",
       "</div>"
      ],
      "text/plain": [
       "                                                  email  label\n",
       "0      date wed NUMBER aug NUMBER NUMBER NUMBER NUMB...      0\n",
       "1     martin a posted tassos papadopoulos the greek ...      0\n",
       "2     man threatens explosion in moscow thursday aug...      0\n",
       "3     klez the virus that won t die already the most...      0\n",
       "4      in adding cream to spaghetti carbonara which ...      0\n",
       "...                                                 ...    ...\n",
       "2995   abc s good morning america ranks it the NUMBE...      1\n",
       "2996   hyperlink hyperlink hyperlink let mortgage le...      1\n",
       "2997   thank you for shopping with us gifts for all ...      1\n",
       "2998   the famous ebay marketing e course learn to s...      1\n",
       "2999   hello this is chinese traditional 子 件 NUMBER世...      1\n",
       "\n",
       "[3000 rows x 2 columns]"
      ]
     },
     "execution_count": 2,
     "metadata": {},
     "output_type": "execute_result"
    }
   ],
   "source": [
    "data=pd.read_csv('/kaggle/input/spam-or-not-spam-dataset/spam_or_not_spam.csv')\n",
    "data"
   ]
  },
  {
   "cell_type": "code",
   "execution_count": 3,
   "metadata": {
    "execution": {
     "iopub.execute_input": "2020-12-05T13:41:10.303213Z",
     "iopub.status.busy": "2020-12-05T13:41:10.302461Z",
     "iopub.status.idle": "2020-12-05T13:41:10.336470Z",
     "shell.execute_reply": "2020-12-05T13:41:10.335907Z"
    },
    "papermill": {
     "duration": 0.050747,
     "end_time": "2020-12-05T13:41:10.336598",
     "exception": false,
     "start_time": "2020-12-05T13:41:10.285851",
     "status": "completed"
    },
    "tags": []
   },
   "outputs": [
    {
     "data": {
      "text/plain": [
       "0    2500\n",
       "1     499\n",
       "Name: label, dtype: int64"
      ]
     },
     "execution_count": 3,
     "metadata": {},
     "output_type": "execute_result"
    }
   ],
   "source": [
    "data=data.dropna()\n",
    "# data.dropna()\n",
    "data[\"label\"].value_counts()"
   ]
  },
  {
   "cell_type": "code",
   "execution_count": 4,
   "metadata": {
    "execution": {
     "iopub.execute_input": "2020-12-05T13:41:10.363133Z",
     "iopub.status.busy": "2020-12-05T13:41:10.362370Z",
     "iopub.status.idle": "2020-12-05T13:41:10.366981Z",
     "shell.execute_reply": "2020-12-05T13:41:10.367453Z"
    },
    "papermill": {
     "duration": 0.020911,
     "end_time": "2020-12-05T13:41:10.367610",
     "exception": false,
     "start_time": "2020-12-05T13:41:10.346699",
     "status": "completed"
    },
    "tags": []
   },
   "outputs": [
    {
     "data": {
      "text/plain": [
       "((2999,), (2999,))"
      ]
     },
     "execution_count": 4,
     "metadata": {},
     "output_type": "execute_result"
    }
   ],
   "source": [
    "X=data[\"email\"]\n",
    "Y=data[\"label\"]\n",
    "X.shape,Y.shape\n"
   ]
  },
  {
   "cell_type": "code",
   "execution_count": 5,
   "metadata": {
    "execution": {
     "iopub.execute_input": "2020-12-05T13:41:10.398681Z",
     "iopub.status.busy": "2020-12-05T13:41:10.397949Z",
     "iopub.status.idle": "2020-12-05T13:41:13.767545Z",
     "shell.execute_reply": "2020-12-05T13:41:13.768288Z"
    },
    "papermill": {
     "duration": 3.390539,
     "end_time": "2020-12-05T13:41:13.768587",
     "exception": false,
     "start_time": "2020-12-05T13:41:10.378048",
     "status": "completed"
    },
    "tags": []
   },
   "outputs": [
    {
     "name": "stdout",
     "output_type": "stream",
     "text": [
      "(2399,) (2399,) (600,) (600,)\n",
      "For 1 fold 83.0\n",
      "(2399,) (2399,) (600,) (600,)\n",
      "For 2 fold 83.83333333333334\n",
      "(2399,) (2399,) (600,) (600,)\n",
      "For 3 fold 83.0\n",
      "(2399,) (2399,) (600,) (600,)\n",
      "For 4 fold 83.5\n",
      "(2400,) (2400,) (599,) (599,)\n",
      "For 5 fold 83.30550918196995\n"
     ]
    },
    {
     "data": {
      "text/plain": [
       "array([0])"
      ]
     },
     "execution_count": 5,
     "metadata": {},
     "output_type": "execute_result"
    }
   ],
   "source": [
    "skfold=StratifiedKFold(n_splits=5,shuffle=True)\n",
    "i=1\n",
    "for trainindex,testindex in skfold.split(X,Y):\n",
    "#     print(X[2966])\n",
    "    xtr,xcv=X.iloc[trainindex],X.iloc[testindex]\n",
    "    ytr,ycv=Y.iloc[trainindex],Y.iloc[testindex]\n",
    "    print(xtr.shape,ytr.shape,xcv.shape,ycv.shape)\n",
    "    tfidf=TfidfVectorizer()\n",
    "    xtr=tfidf.fit_transform(xtr.values)\n",
    "    xcv=tfidf.transform(xcv.values)\n",
    "    nbs=BernoulliNB(alpha=10)\n",
    "    nbs.fit(xtr,ytr)\n",
    "    pred=nbs.predict(xcv)\n",
    "    score=accuracy_score(ycv,pred)*100\n",
    "    print(f\"For {i} fold {score}\")\n",
    "    i+=1\n",
    "nbs.predict(tfidf.transform([\"please send the project documentation by tomorrow from hr department cognitive innovations\"]))"
   ]
  },
  {
   "cell_type": "code",
   "execution_count": 6,
   "metadata": {
    "execution": {
     "iopub.execute_input": "2020-12-05T13:41:13.815510Z",
     "iopub.status.busy": "2020-12-05T13:41:13.813978Z",
     "iopub.status.idle": "2020-12-05T13:41:13.821156Z",
     "shell.execute_reply": "2020-12-05T13:41:13.820385Z"
    },
    "papermill": {
     "duration": 0.032775,
     "end_time": "2020-12-05T13:41:13.821284",
     "exception": false,
     "start_time": "2020-12-05T13:41:13.788509",
     "status": "completed"
    },
    "tags": []
   },
   "outputs": [
    {
     "data": {
      "text/plain": [
       "((2009,), (990,), (2009,), (990,))"
      ]
     },
     "execution_count": 6,
     "metadata": {},
     "output_type": "execute_result"
    }
   ],
   "source": [
    "X_train,X_test,y_train,y_test=train_test_split(X,Y,test_size=0.33,)\n",
    "X_train.shape,X_test.shape,y_train.shape,y_test.shape"
   ]
  },
  {
   "cell_type": "code",
   "execution_count": 7,
   "metadata": {
    "execution": {
     "iopub.execute_input": "2020-12-05T13:41:13.854123Z",
     "iopub.status.busy": "2020-12-05T13:41:13.853059Z",
     "iopub.status.idle": "2020-12-05T13:41:13.858103Z",
     "shell.execute_reply": "2020-12-05T13:41:13.857402Z"
    },
    "papermill": {
     "duration": 0.024199,
     "end_time": "2020-12-05T13:41:13.858216",
     "exception": false,
     "start_time": "2020-12-05T13:41:13.834017",
     "status": "completed"
    },
    "tags": []
   },
   "outputs": [
    {
     "data": {
      "text/plain": [
       "' from scott lipcon slipcon mercea net date mon NUMBER sep NUMBER NUMBER NUMBER NUMBER NUMBER chris i m home now and this copy of exmh is pretty bad i m running from cvs on sunday night the only change since then was the one you made this morning for bulletproofing in mhreadseqs i run exmh and i can visably see it count up the number of unseen messages as it looks through the folders i have about NUMBER unseen messages in maybe NUMBER or NUMBER folders it takes a few seconds for all of the folders in the fcache to turn blue this is true it s now looking at more than just unseen so it takes a little while in the background to build the sequences window there is probably some tuning possible in this area in inbox i have NUMBER unread messages they aren t blue they are white background with a normal colored font i changed the default display of unseen messages from a foreground of blue to a background of white to make it possible to see what other sequences unseen messages may be in i did ask brent before i did it if you like the old behavior the old lines are still in app defaults color but commented out if i click on a message i get the following traceback invalid command name mh_markseen while executing mh_markseen exmh folder msgid procedure hook_msgshow_update_unseen line NUMBER invoked from within cmd mhprofile path exmh folder msgid mimehdr procedure msgshow line NUMBER invoked from within msgshow msgid procedure msgchange line NUMBER invoked from within msgchange NUMBER show invoked from within time list msgchange msgid show procedure msg_change line NUMBER invoked from within msg_change msgnum show procedure msg_pick line NUMBER invoked from within msg_pick lineno show procedure ftocrangeend line NUMBER invoked from within ftocrangeend lindex split ftoc t index current NUMBER NUMBER command bound to event this is because of your hook_msgshow_update_unseen which is calling a function which no longer exists i suspect you need seq_del exmh folder unseen msgid now instead of mh_markseen exmh folder msgid it appears that the message does get marked as seen though as it loses the white background and nmh reports the same if i click the flist button it zero s the unseen count and then there is again a visible delay as it counts up all the unseen messages maybe NUMBER NUMBER seconds i really think my installation is ok now but if this behavior is just really strange i ll blow everything away and reinstall i m happy to spend some time helping to track this down i don t really need exmh i m comfortable enough using nmh scott _______________________________________________ exmh workers mailing list exmh workers URL URL chris garrigues URL vircio URL NUMBER congress suite NUMBER austin tx NUMBER NUMBER NUMBER NUMBER NUMBER world war iii the wrong doers vs the evil doers '"
      ]
     },
     "execution_count": 7,
     "metadata": {},
     "output_type": "execute_result"
    }
   ],
   "source": [
    "X_train.values[0]"
   ]
  },
  {
   "cell_type": "code",
   "execution_count": 8,
   "metadata": {
    "execution": {
     "iopub.execute_input": "2020-12-05T13:41:13.936856Z",
     "iopub.status.busy": "2020-12-05T13:41:13.915059Z",
     "iopub.status.idle": "2020-12-05T13:41:14.640387Z",
     "shell.execute_reply": "2020-12-05T13:41:14.639597Z"
    },
    "papermill": {
     "duration": 0.768515,
     "end_time": "2020-12-05T13:41:14.640545",
     "exception": false,
     "start_time": "2020-12-05T13:41:13.872030",
     "status": "completed"
    },
    "tags": []
   },
   "outputs": [],
   "source": [
    "tfidf=TfidfVectorizer()\n",
    "X_train=tfidf.fit_transform(X_train.values)\n",
    "X_test=tfidf.transform(X_test.values)"
   ]
  },
  {
   "cell_type": "code",
   "execution_count": 9,
   "metadata": {
    "execution": {
     "iopub.execute_input": "2020-12-05T13:41:14.676343Z",
     "iopub.status.busy": "2020-12-05T13:41:14.675083Z",
     "iopub.status.idle": "2020-12-05T13:41:14.913954Z",
     "shell.execute_reply": "2020-12-05T13:41:14.913190Z"
    },
    "papermill": {
     "duration": 0.259105,
     "end_time": "2020-12-05T13:41:14.914080",
     "exception": false,
     "start_time": "2020-12-05T13:41:14.654975",
     "status": "completed"
    },
    "tags": []
   },
   "outputs": [
    {
     "data": {
      "text/plain": [
       "(0.027733407412551796, BernoulliNB(alpha=10), {'alpha': 10})"
      ]
     },
     "execution_count": 9,
     "metadata": {},
     "output_type": "execute_result"
    }
   ],
   "source": [
    "params={'alpha':[10,100,20,30,40,50]}\n",
    "grid=GridSearchCV(BernoulliNB(),params,cv=3,scoring=\"f1\")\n",
    "grid.fit(X_train,y_train)\n",
    "grid.best_score_,grid.best_estimator_,grid.best_params_"
   ]
  },
  {
   "cell_type": "code",
   "execution_count": 10,
   "metadata": {
    "execution": {
     "iopub.execute_input": "2020-12-05T13:41:14.947489Z",
     "iopub.status.busy": "2020-12-05T13:41:14.946822Z",
     "iopub.status.idle": "2020-12-05T13:41:14.960950Z",
     "shell.execute_reply": "2020-12-05T13:41:14.960164Z"
    },
    "papermill": {
     "duration": 0.033389,
     "end_time": "2020-12-05T13:41:14.961080",
     "exception": false,
     "start_time": "2020-12-05T13:41:14.927691",
     "status": "completed"
    },
    "tags": []
   },
   "outputs": [],
   "source": [
    "nbs=BernoulliNB(alpha=10)\n",
    "nbs.fit(X_train,y_train)\n",
    "pred=nbs.predict(X_test)\n"
   ]
  },
  {
   "cell_type": "code",
   "execution_count": 11,
   "metadata": {
    "execution": {
     "iopub.execute_input": "2020-12-05T13:41:14.995887Z",
     "iopub.status.busy": "2020-12-05T13:41:14.994770Z",
     "iopub.status.idle": "2020-12-05T13:41:14.999732Z",
     "shell.execute_reply": "2020-12-05T13:41:14.999074Z"
    },
    "papermill": {
     "duration": 0.024973,
     "end_time": "2020-12-05T13:41:14.999849",
     "exception": false,
     "start_time": "2020-12-05T13:41:14.974876",
     "status": "completed"
    },
    "tags": []
   },
   "outputs": [
    {
     "data": {
      "text/plain": [
       "84.44444444444444"
      ]
     },
     "execution_count": 11,
     "metadata": {},
     "output_type": "execute_result"
    }
   ],
   "source": [
    "accuracy_score(y_test,pred)*100"
   ]
  },
  {
   "cell_type": "code",
   "execution_count": 12,
   "metadata": {
    "execution": {
     "iopub.execute_input": "2020-12-05T13:41:15.035706Z",
     "iopub.status.busy": "2020-12-05T13:41:15.034706Z",
     "iopub.status.idle": "2020-12-05T13:41:15.044552Z",
     "shell.execute_reply": "2020-12-05T13:41:15.043614Z"
    },
    "papermill": {
     "duration": 0.030587,
     "end_time": "2020-12-05T13:41:15.044698",
     "exception": false,
     "start_time": "2020-12-05T13:41:15.014111",
     "status": "completed"
    },
    "tags": []
   },
   "outputs": [
    {
     "data": {
      "text/plain": [
       "array([0])"
      ]
     },
     "execution_count": 12,
     "metadata": {},
     "output_type": "execute_result"
    }
   ],
   "source": [
    "nbs.predict(tfidf.transform([\"Divya Kavya Sravya\"]))"
   ]
  },
  {
   "cell_type": "code",
   "execution_count": null,
   "metadata": {
    "papermill": {
     "duration": 0.016592,
     "end_time": "2020-12-05T13:41:15.075922",
     "exception": false,
     "start_time": "2020-12-05T13:41:15.059330",
     "status": "completed"
    },
    "tags": []
   },
   "outputs": [],
   "source": []
  }
 ],
 "metadata": {
  "kernelspec": {
   "display_name": "Python 3",
   "language": "python",
   "name": "python3"
  },
  "language_info": {
   "codemirror_mode": {
    "name": "ipython",
    "version": 3
   },
   "file_extension": ".py",
   "mimetype": "text/x-python",
   "name": "python",
   "nbconvert_exporter": "python",
   "pygments_lexer": "ipython3",
   "version": "3.7.6"
  },
  "papermill": {
   "duration": 11.189825,
   "end_time": "2020-12-05T13:41:15.201792",
   "environment_variables": {},
   "exception": null,
   "input_path": "__notebook__.ipynb",
   "output_path": "__notebook__.ipynb",
   "parameters": {},
   "start_time": "2020-12-05T13:41:04.011967",
   "version": "2.1.0"
  }
 },
 "nbformat": 4,
 "nbformat_minor": 4
}
